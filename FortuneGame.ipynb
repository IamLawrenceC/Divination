{
 "metadata": {
  "language_info": {
   "codemirror_mode": {
    "name": "ipython",
    "version": 3
   },
   "file_extension": ".py",
   "mimetype": "text/x-python",
   "name": "python",
   "nbconvert_exporter": "python",
   "pygments_lexer": "ipython3",
   "version": "3.8.5-final"
  },
  "orig_nbformat": 2,
  "kernelspec": {
   "name": "python3",
   "display_name": "Python 3"
  }
 },
 "nbformat": 4,
 "nbformat_minor": 2,
 "cells": [
  {
   "cell_type": "code",
   "execution_count": 1,
   "metadata": {
    "tags": []
   },
   "outputs": [
    {
     "output_type": "stream",
     "name": "stdout",
     "text": "pygame 1.9.6\nHello from the pygame community. https://www.pygame.org/contribute.html\n"
    }
   ],
   "source": [
    "import pygame"
   ]
  },
  {
   "cell_type": "code",
   "execution_count": 2,
   "metadata": {
    "tags": []
   },
   "outputs": [],
   "source": [
    "# PyGame template.\n",
    " \n",
    "# Import standard modules.\n",
    "import sys\n",
    " \n",
    "# Import non-standard modules.\n",
    "import pygame\n",
    "from pygame.locals import *\n",
    " \n",
    "def update(dt):\n",
    "  \"\"\"\n",
    "  Update game. Called once per frame.\n",
    "  dt is the amount of time passed since last frame.\n",
    "  If you want to have constant apparent movement no matter your framerate,\n",
    "  what you can do is something like\n",
    "  \n",
    "  x += v * dt\n",
    "  \n",
    "  and this will scale your velocity based on time. Extend as necessary.\"\"\"\n",
    "  \n",
    "  # Go through events that are passed to the script by the window.\n",
    "  for event in pygame.event.get():\n",
    "    # We need to handle these events. Initially the only one you'll want to care\n",
    "    # about is the QUIT event, because if you don't handle it, your game will crash\n",
    "    # whenever someone tries to exit.\n",
    "    if event.type == QUIT:\n",
    "      pygame.quit() # Opposite of pygame.init\n",
    "      sys.exit() # Not including this line crashes the script on Windows. Possibly\n",
    "      # on other operating systems too, but I don't know for sure.\n",
    "    # Handle other events as you wish.\n",
    " \n",
    "def draw(screen):\n",
    "  \"\"\"\n",
    "  Draw things to the window. Called once per frame.\n",
    "  \"\"\"\n",
    "  screen.fill((0, 0, 0)) # Fill the screen with black.\n",
    "  \n",
    "  # Redraw screen here.\n",
    "  \n",
    "  # Flip the display so that the things we drew actually show up.\n",
    "  pygame.display.flip()\n",
    " \n",
    "def runPyGame():\n",
    "  # Initialise PyGame.\n",
    "  pygame.init()\n",
    "  \n",
    "  # Set up the clock. This will tick every frame and thus maintain a relatively constant framerate. Hopefully.\n",
    "  fps = 60.0\n",
    "  fpsClock = pygame.time.Clock()\n",
    "  \n",
    "  # Set up the window.\n",
    "  width, height = 640, 480\n",
    "  screen = pygame.display.set_mode((width, height))\n",
    "  \n",
    "  # screen is the surface representing the window.\n",
    "  # PyGame surfaces can be thought of as screen sections that you can draw onto.\n",
    "  # You can also draw surfaces onto other surfaces, rotate surfaces, and transform surfaces.\n",
    "  \n",
    "  # Main game loop.\n",
    "  dt = 1/fps # dt is the time since last frame.\n",
    "  while True: # Loop forever!\n",
    "    update(dt) # You can update/draw here, I've just moved the code for neatness.\n",
    "    draw(screen)\n",
    "    \n",
    "    dt = fpsClock.tick(fps)"
   ]
  },
  {
   "cell_type": "code",
   "execution_count": null,
   "metadata": {},
   "outputs": [],
   "source": []
  }
 ]
}