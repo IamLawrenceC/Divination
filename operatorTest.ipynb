{
 "metadata": {
  "language_info": {
   "codemirror_mode": {
    "name": "ipython",
    "version": 3
   },
   "file_extension": ".py",
   "mimetype": "text/x-python",
   "name": "python",
   "nbconvert_exporter": "python",
   "pygments_lexer": "ipython3",
   "version": "3.8.5-final"
  },
  "orig_nbformat": 2,
  "kernelspec": {
   "name": "python3",
   "display_name": "Python 3"
  }
 },
 "nbformat": 4,
 "nbformat_minor": 2,
 "cells": [
  {
   "cell_type": "code",
   "execution_count": 332,
   "metadata": {},
   "outputs": [],
   "source": [
    "import numpy as np\n",
    "from qiskit import *\n",
    "class ClassicalOperator:\n",
    "        \n",
    "        def __init__(self, shangGua, shiaGua):\n",
    "            self.shangGua = np.array([[-1],[-1],[-1]])\n",
    "            self.shiaGua = np.array([[-1],[-1],[-1]])\n",
    "        '''\n",
    "        變卦\n",
    "        '''\n",
    "        def bianGua(self): #shangGua: 上卦 shiaGua:下卦\n",
    "            assert self.shangGua[0,0] != -1\n",
    "            print(\"[classical變卦]\")\n",
    "            shangGua = np.where((self.shangGua==0)|(self.shangGua==1), self.shangGua^1, self.shangGua)\n",
    "            shiaGua = np.where((self.shiaGua==0)|(self.shiaGua==1), self.shiaGua^1, self.shiaGua)\n",
    "            return(shangGua, shiaGua) \n",
    "        '''\n",
    "        互卦\n",
    "        '''\n",
    "        def huGua(self):\n",
    "            assert self.shangGua[0,0] != -1\n",
    "            print(\"[classical互卦]\")\n",
    "            shangGua = np.array([ [self.shangGua[1,0]],\n",
    "                                  [self.shangGua[2,0]],\n",
    "                                  [self.shiaGua[0,0]]])\n",
    "            shiaGua = np.array([ [self.shangGua[2,0]],\n",
    "                                 [self.shiaGua[0,0]],\n",
    "                                 [self.shiaGua[2,0]]])\n",
    "            return(shangGua, shiaGua)\n",
    "        '''\n",
    "        綜卦\n",
    "        '''\n",
    "        def tzungGua(self):\n",
    "            assert self.shangGua[0,0] != -1\n",
    "            print(\"[classical綜卦]\")\n",
    "            shangGua = np.flip(self.shangGua)\n",
    "            shiaGua = np.flip(self.shiaGua)\n",
    "            return(shangGua, shiaGua)\n",
    "        '''\n",
    "        正卦\n",
    "        '''\n",
    "        def zhenGua(self):\n",
    "            print(\"[classical正卦]\")\n",
    "            self.getGua(\"shangGua\")\n",
    "            self.getGua(\"shiaGua\")\n",
    "            return(self.shangGua, self.shiaGua)\n",
    "        def getGua(self,mode=\"shangGua\"): #Two mode: shanGua or shiaGua\n",
    "            qr = QuantumRegister(3)\n",
    "            cr = ClassicalRegister(3)\n",
    "            circuit = QuantumCircuit(qr, cr)\n",
    "            circuit.h(qr)\n",
    "            circuit.measure(qr, cr)\n",
    "            %matplotlib inline \n",
    "            circuit.draw(output='mpl')\n",
    "            backend = Aer.get_backend('qasm_simulator')\n",
    "            job = execute(circuit, backend, shots=1)\n",
    "            result = job.result().get_counts(circuit)\n",
    "            for x,y in result.items():\n",
    "                Gua = x\n",
    "                #print(Gua)\n",
    "            if(mode==\"shangGua\"):\n",
    "                self.shangGua[0,0] = Gua[2]\n",
    "                self.shangGua[1,0] = Gua[1]\n",
    "                self.shangGua[2,0] = Gua[0]\n",
    "                #print(self.shangGua)\n",
    "            elif(mode==\"shiaGua\"):\n",
    "                self.shiaGua[0,0] = Gua[2]\n",
    "                self.shiaGua[1,0] = Gua[1]\n",
    "                self.shiaGua[2,0] = Gua[0]\n",
    "                #print(self.shiaGua)\n",
    "            else:\n",
    "                print(\"mode error\")\n",
    "\n"
   ]
  },
  {
   "cell_type": "code",
   "execution_count": 333,
   "metadata": {},
   "outputs": [],
   "source": [
    "classicalOp = ClassicalOperator(a,b)"
   ]
  },
  {
   "cell_type": "code",
   "execution_count": 334,
   "metadata": {
    "tags": []
   },
   "outputs": [
    {
     "output_type": "stream",
     "name": "stdout",
     "text": "[classical正卦]\n[classical變卦]\n[classical互卦]\n[classical綜卦]\n"
    },
    {
     "output_type": "execute_result",
     "data": {
      "text/plain": "(array([[0],\n        [1],\n        [1]]),\n array([[1],\n        [0],\n        [0]]))"
     },
     "metadata": {},
     "execution_count": 334
    }
   ],
   "source": [
    "classicalOp.zhenGua()\n",
    "classicalOp.bianGua()\n",
    "classicalOp.huGua()\n",
    "classicalOp.tzungGua()"
   ]
  },
  {
   "cell_type": "code",
   "execution_count": 335,
   "metadata": {
    "tags": []
   },
   "outputs": [],
   "source": [
    "class QuantumOperator:\n",
    "        \n",
    "        def __init__(self, shangGua, shiaGua):\n",
    "            self.shangGua = np.array([[-1],[-1],[-1]])\n",
    "            self.shiaGua = np.array([[-1],[-1],[-1]])\n",
    "            self.shangGua_zhen = np.array([[-1],[-1],[-1]])\n",
    "            self.shiaGua_zhen = np.array([[-1],[-1],[-1]])\n",
    "            self.crBuffer = []\n",
    "        '''\n",
    "        變卦\n",
    "        '''\n",
    "        def bianGua(self): #shangGua: 上卦 shiaGua:下卦\n",
    "            print(\"[Quantum變卦]\")\n",
    "            circ = QuantumCircuit(6)\n",
    "            for i in range(5):\n",
    "                circ.h(i)\n",
    "                circ.x(i)\n",
    "                circ.cx(i,5)\n",
    "        \n",
    "            circ.measure_all()\n",
    "    \n",
    "            simulator = Aer.get_backend('qasm_simulator')\n",
    "            job = execute(circ, simulator, shots=1)\n",
    "            result = job.result().get_counts(circ)\n",
    "            self.__resultToGua(result)\n",
    "            return(self.shangGua, self.shiaGua)\n",
    "        '''\n",
    "        互卦\n",
    "        '''\n",
    "        def huGua(self):\n",
    "            print(\"[Quantum互卦]\")\n",
    "            qr = QuantumRegister(6)\n",
    "            cr = ClassicalRegister(8) # cr[6]: for qr[0] cr[7]: for qr[5]\n",
    "            circ = QuantumCircuit(qr, cr)\n",
    "            for i in range(5):\n",
    "                circ.h(i)\n",
    "                circ.cx(i,5)\n",
    "    \n",
    "            circ.measure(qr[1], cr[0])\n",
    "            circ.measure(qr[2], cr[1])\n",
    "            circ.measure(qr[3], cr[2])\n",
    "            circ.measure(qr[2], cr[3])\n",
    "            circ.measure(qr[3], cr[4])\n",
    "            circ.measure(qr[4], cr[5])\n",
    "\n",
    "            circ.measure(qr[0], cr[6])\n",
    "            circ.measure(qr[1], cr[7])\n",
    "            simulator = Aer.get_backend('qasm_simulator')\n",
    "            job = execute(circ, simulator, shots=1)\n",
    "            result = job.result().get_counts(circ)\n",
    "            \n",
    "            for x,y in result.items():\n",
    "                Gua = x\n",
    "            self.shangGua[0,0]=Gua[7]\n",
    "            self.shangGua[1,0]=Gua[6]\n",
    "            self.shangGua[2,0]=Gua[5]\n",
    "            self.shiaGua[2,0]=Gua[4]\n",
    "            self.shiaGua[1,0]=Gua[3]\n",
    "            self.shiaGua[0,0]=Gua[2]\n",
    "\n",
    "            self.crBuffer.append(Gua[1])# q[0]\n",
    "            self.crBuffer.append(Gua[0])# q[6]\n",
    "\n",
    "            return(self.shangGua, self.shiaGua)\n",
    "        '''\n",
    "        綜卦\n",
    "        '''\n",
    "        def tzungGua(self):\n",
    "            print(\"[classical綜卦]\")\n",
    "            circ = QuantumCircuit(6)\n",
    "            for i in range(5):\n",
    "                circ.h(i)\n",
    "                circ.x(i)\n",
    "                circ.cx(i,5)\n",
    "            circ.swap(0,2)\n",
    "            circ.swap(3,5)\n",
    "       \n",
    "            circ.measure_all()\n",
    "    \n",
    "            simulator = Aer.get_backend('qasm_simulator')\n",
    "            job = execute(circ, simulator, shots=1)\n",
    "            result = job.result().get_counts(circ)\n",
    "            self.__resultToGua(result)\n",
    "            return(self.shangGua, self.shiaGua)\n",
    "        '''\n",
    "        正卦\n",
    "        '''\n",
    "        def zhenGua(self):\n",
    "            print(\"[Quantum正卦]\")\n",
    "            circ = QuantumCircuit(6) # 6 qubits\n",
    "            for i in range(5):\n",
    "                circ.h(i)\n",
    "                circ.cx(i,5)\n",
    "            circ.measure_all()\n",
    "            simulator = Aer.get_backend('qasm_simulator')\n",
    "            job = execute(circ, simulator, shots=1)\n",
    "            result = job.result().get_counts(circ)\n",
    "            self.__resultToGua(result)\n",
    "            return(self.shangGua, self.shiaGua)\n",
    "        def __resultToGua(self, result): #string to shanGua & shiaGua\n",
    "            for x,y in result.items():\n",
    "                Gua = x\n",
    "            self.shangGua[0,0]=Gua[5]\n",
    "            self.shangGua[1,0]=Gua[4]\n",
    "            self.shangGua[2,0]=Gua[3]\n",
    "            self.shiaGua[2,0]=Gua[2]\n",
    "            self.shiaGua[1,0]=Gua[1]\n",
    "            self.shiaGua[0,0]=Gua[0]\n",
    "        def transZhenGua(self, mode=\"huGua\"): # mode = \"huGua\" or \"bianGua\" or \"tzungGua\" \n",
    "            if(mode==\"huGua\"):\n",
    "                self.shangGua_zhen[0,0] = self.crBuffer[0]\n",
    "                self.shangGua_zhen[1,0] = self.shangGua[0,0]\n",
    "                self.shangGua_zhen[2,0] = self.shangGua[1,0]\n",
    "\n",
    "                self.shiaGua_zhen[0,0] = self.shiaGua[1,0]\n",
    "                self.shiaGua_zhen[1,0] = self.shiaGua[2,0]\n",
    "                self.shiaGua_zhen[2,0] = self.crBuffer[1]\n",
    "\n",
    "                return(self.shangGua_zhen, self.shiaGua_zhen)\n",
    "            elif(mode==\"bianGua\"):\n",
    "                self.shangGua_zhen = np.where((self.shangGua==0)|(self.shangGua==1), self.shangGua^1, self.shangGua)\n",
    "                self.shiaGua_zhen = np.where((self.shiaGua==0)|(self.shiaGua==1), self.shiaGua^1, self.shiaGua)\n",
    "                return(self.shangGua_zhen, self.shiaGua_zhen)\n",
    "            elif(mode==\"tzungGua\"):\n",
    "                self.shangGua_zhen = np.flip(self.shangGua)\n",
    "                self.shiaGua_zhen = np.flip(self.shiaGua)\n",
    "                return(self.shangGua_zhen, self.shiaGua_zhen)\n",
    "            else:\n",
    "                return -1 #error"
   ]
  },
  {
   "cell_type": "code",
   "execution_count": 336,
   "metadata": {
    "tags": []
   },
   "outputs": [
    {
     "output_type": "stream",
     "name": "stdout",
     "text": "[Quantum正卦]\n[Quantum變卦]\n[Quantum互卦]\n"
    },
    {
     "output_type": "execute_result",
     "data": {
      "text/plain": "(array([[1],\n        [1],\n        [1]]),\n array([[1],\n        [1],\n        [1]]))"
     },
     "metadata": {},
     "execution_count": 336
    }
   ],
   "source": [
    "quantumOp = QuantumOperator(a,b)\n",
    "quantumOp.zhenGua()\n",
    "quantumOp.bianGua()\n",
    "quantumOp.huGua()\n",
    "quantumOp.transZhenGua(\"tzungGua\")"
   ]
  },
  {
   "cell_type": "code",
   "execution_count": 359,
   "metadata": {
    "tags": []
   },
   "outputs": [
    {
     "output_type": "stream",
     "name": "stdout",
     "text": "['乾', '周易六十四卦之首。上下皆由相同的乾卦組成，其六個爻皆為陽。通稱「乾為天」。 代表「天」的形象。置於六十四卦之首、其次是象徵「地」的坤卦，序卦傳：天地定位、萬物生焉。\\n']\n"
    }
   ],
   "source": [
    "def get64txt():\n",
    "    zdic = {}\n",
    "    with open('D:/QiskitHackathon/Divination/64.txt', encoding = 'utf8') as zfile:\n",
    "        for line in zfile:\n",
    "            z = line.split(' ', 1)\n",
    "            key = z[0]\n",
    "            value = z[1].split('，',1)\n",
    "            zdic[key] = value\n",
    "    return zdic\n",
    "print(get64txt().get(\"111111\"))\n",
    "# for x,y in zdic.items():\n",
    "#     print('%s %s %s' %(x,y[0],y[1])) \n",
    "zdic = get64txt()"
   ]
  },
  {
   "cell_type": "code",
   "execution_count": 367,
   "metadata": {},
   "outputs": [],
   "source": [
    "def explanGua(shangGua, shiaGua):\n",
    "    key = str(shangGua[0,0])+str(shangGua[1,0])+str(shangGua[2,0])+str(shiaGua[0,0])+str(shiaGua[1,0])+str(shiaGua[2,0])\n",
    "    print(key)\n",
    "    print(type(key))\n",
    "    print(zdic.get(key))\n"
   ]
  },
  {
   "cell_type": "code",
   "execution_count": 370,
   "metadata": {
    "tags": []
   },
   "outputs": [
    {
     "output_type": "stream",
     "name": "stdout",
     "text": "111111\n<class 'str'>\n['乾', '周易六十四卦之首。上下皆由相同的乾卦組成，其六個爻皆為陽。通稱「乾為天」。 代表「天」的形象。置於六十四卦之首、其次是象徵「地」的坤卦，序卦傳：天地定位、萬物生焉。\\n']\n"
    }
   ],
   "source": [
    "explanGua(quantumOp.shangGua_zhen, quantumOp.shiaGua_zhen)"
   ]
  },
  {
   "cell_type": "code",
   "execution_count": null,
   "metadata": {},
   "outputs": [],
   "source": []
  }
 ]
}