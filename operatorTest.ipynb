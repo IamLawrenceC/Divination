{
 "metadata": {
  "language_info": {
   "codemirror_mode": {
    "name": "ipython",
    "version": 3
   },
   "file_extension": ".py",
   "mimetype": "text/x-python",
   "name": "python",
   "nbconvert_exporter": "python",
   "pygments_lexer": "ipython3",
   "version": "3.8.5-final"
  },
  "orig_nbformat": 2,
  "kernelspec": {
   "name": "python3",
   "display_name": "Python 3"
  }
 },
 "nbformat": 4,
 "nbformat_minor": 2,
 "cells": [
  {
   "cell_type": "code",
   "execution_count": 224,
   "metadata": {},
   "outputs": [],
   "source": [
    "import numpy as np\n",
    "from qiskit import *\n",
    "class ClassicalOperator:\n",
    "        \n",
    "        def __init__(self, shangGua, shiaGua):\n",
    "            self.shangGua = np.array([[-1],[-1],[-1]])\n",
    "            self.shiaGua = np.array([[-1],[-1],[-1]])\n",
    "        def inner_display(self, msg):\n",
    "            print(\"This is Classical Operator\")\n",
    "            print(msg)\n",
    "        '''\n",
    "        變卦\n",
    "        '''\n",
    "        def bianGua(self): #shangGua: 上卦 shiaGua:下卦\n",
    "            assert self.shangGua[0,0] != -1\n",
    "            print(\"[classical變卦]\")\n",
    "            shangGua = np.where((self.shangGua==0)|(self.shangGua==1), self.shangGua^1, self.shangGua)\n",
    "            shiaGua = np.where((self.shiaGua==0)|(self.shiaGua==1), self.shiaGua^1, self.shiaGua)\n",
    "            return(shangGua, shiaGua) \n",
    "        '''\n",
    "        互卦\n",
    "        '''\n",
    "        def huGua(self):\n",
    "            assert self.shangGua[0,0] != -1\n",
    "            print(\"[classical互卦]\")\n",
    "            shangGua = np.array([ [self.shangGua[1,0]],\n",
    "                                  [self.shangGua[2,0]],\n",
    "                                  [self.shiaGua[0,0]]])\n",
    "            shiaGua = np.array([ [self.shangGua[2,0]],\n",
    "                                 [self.shiaGua[0,0]],\n",
    "                                 [self.shiaGua[2,0]]])\n",
    "            return(shangGua, shiaGua)\n",
    "        '''\n",
    "        綜卦\n",
    "        '''\n",
    "        def tzungGua(self):\n",
    "            assert self.shangGua[0,0] != -1\n",
    "            print(\"[classical綜卦]\")\n",
    "            shangGua = np.flip(self.shangGua)\n",
    "            shiaGua = np.flip(self.shiaGua)\n",
    "            return(shangGua, shiaGua)\n",
    "        '''\n",
    "        正卦\n",
    "        '''\n",
    "        def zhenGua(self):\n",
    "            print(\"[classical正卦]\")\n",
    "            self.getGua(\"shangGua\")\n",
    "            self.getGua(\"shiaGua\")\n",
    "            return(self.shangGua, self.shiaGua)\n",
    "        def getGua(self,mode=\"shangGua\"): #Two mode: shanGua or shiaGua\n",
    "            qr = QuantumRegister(3)\n",
    "            cr = ClassicalRegister(3)\n",
    "            circuit = QuantumCircuit(qr, cr)\n",
    "            circuit.h(qr)\n",
    "            circuit.measure(qr, cr)\n",
    "            %matplotlib inline \n",
    "            circuit.draw(output='mpl')\n",
    "            backend = Aer.get_backend('qasm_simulator')\n",
    "            job = execute(circuit, backend, shots=1)\n",
    "            result = job.result().get_counts(circuit)\n",
    "            for x,y in result.items():\n",
    "                Gua = x\n",
    "                #print(Gua)\n",
    "            if(mode==\"shangGua\"):\n",
    "                self.shangGua[0,0] = Gua[2]\n",
    "                self.shangGua[1,0] = Gua[1]\n",
    "                self.shangGua[2,0] = Gua[0]\n",
    "                #print(self.shangGua)\n",
    "            elif(mode==\"shiaGua\"):\n",
    "                self.shiaGua[0,0] = Gua[2]\n",
    "                self.shiaGua[1,0] = Gua[1]\n",
    "                self.shiaGua[2,0] = Gua[0]\n",
    "                #print(self.shiaGua)\n",
    "            else:\n",
    "                print(\"mode error\")\n",
    "\n"
   ]
  },
  {
   "cell_type": "code",
   "execution_count": 225,
   "metadata": {},
   "outputs": [],
   "source": [
    "classicalOp = ClassicalOperator(a,b)"
   ]
  },
  {
   "cell_type": "code",
   "execution_count": 226,
   "metadata": {
    "tags": []
   },
   "outputs": [
    {
     "output_type": "stream",
     "name": "stdout",
     "text": "[classical正卦]\n[classical變卦]\n[classical互卦]\n[classical綜卦]\n"
    },
    {
     "output_type": "execute_result",
     "data": {
      "text/plain": "(array([[1],\n        [1],\n        [1]]),\n array([[1],\n        [0],\n        [1]]))"
     },
     "metadata": {},
     "execution_count": 226
    }
   ],
   "source": [
    "classicalOp.zhenGua()\n",
    "classicalOp.bianGua()\n",
    "classicalOp.huGua()\n",
    "classicalOp.tzungGua()"
   ]
  },
  {
   "cell_type": "code",
   "execution_count": 191,
   "metadata": {
    "tags": []
   },
   "outputs": [
    {
     "output_type": "stream",
     "name": "stdout",
     "text": "110\n[[0]\n [1]\n [1]]\n"
    }
   ],
   "source": [
    "class QuantumOperator:\n",
    "        \n",
    "        def __init__(self, shangGua, shiaGua):\n",
    "            self.shangGua = np.array([[-1],[-1],[-1]])\n",
    "            self.shiaGua = np.array([[-1],[-1],[-1]])\n",
    "        def inner_display(self, msg):\n",
    "            print(\"This is Classical Operator\")\n",
    "            print(msg)\n",
    "        '''\n",
    "        變卦\n",
    "        '''\n",
    "        def bianGua(self): #shangGua: 上卦 shiaGua:下卦\n",
    "            assert self.shangGua[0,0] != -1\n",
    "            print(\"[classical變卦]\")\n",
    "            shangGua = np.where((self.shangGua==0)|(self.shangGua==1), self.shangGua^1, self.shangGua)\n",
    "            shiaGua = np.where((self.shiaGua==0)|(self.shiaGua==1), self.shiaGua^1, self.shiaGua)\n",
    "            return(shangGua, shiaGua) \n",
    "        '''\n",
    "        互卦\n",
    "        '''\n",
    "        def huGua(self):\n",
    "            assert self.shangGua[0,0] != -1\n",
    "            print(\"[classical互卦]\")\n",
    "            shangGua = np.array([ [self.shangGua[1,0]],\n",
    "                                  [self.shangGua[2,0]],\n",
    "                                  [self.shiaGua[0,0]]])\n",
    "            shiaGua = np.array([ [self.shangGua[2,0]],\n",
    "                                 [self.shiaGua[0,0]],\n",
    "                                 [self.shiaGua[2,0]]])\n",
    "            return(shangGua, shiaGua)\n",
    "        '''\n",
    "        綜卦\n",
    "        '''\n",
    "        def tzungGua(self):\n",
    "            assert self.shangGua[0,0] != -1\n",
    "            print(\"[classical綜卦]\")\n",
    "            shangGua = np.flip(self.shangGua)\n",
    "            shiaGua = np.flip(self.shiaGua)\n",
    "            return(shangGua, shiaGua)\n",
    "        '''\n",
    "        正卦\n",
    "        '''\n",
    "        def zhenGua(self):\n",
    "            print(\"[classical正卦]\")\n",
    "            self.getGua(\"shangGua\")\n",
    "            self.getGua(\"shiaGua\")\n",
    "            return(self.shangGua, self.shiaGua)\n",
    "        def getGua(self,mode=\"shangGua\"): #Two mode: shanGua or shiaGua\n",
    "            qr = QuantumRegister(3)\n",
    "            cr = ClassicalRegister(3)\n",
    "            circuit = QuantumCircuit(qr, cr)\n",
    "            circuit.h(qr)\n",
    "            circuit.measure(qr, cr)\n",
    "            %matplotlib inline \n",
    "            circuit.draw(output='mpl')\n",
    "            backend = Aer.get_backend('qasm_simulator')\n",
    "            job = execute(circuit, backend, shots=1)\n",
    "            result = job.result().get_counts(circuit)\n",
    "            for x,y in result.items():\n",
    "                Gua = x\n",
    "                #print(Gua)\n",
    "            if(mode==\"shangGua\"):\n",
    "                self.shangGua[0,0] = Gua[2]\n",
    "                self.shangGua[1,0] = Gua[1]\n",
    "                self.shangGua[2,0] = Gua[0]\n",
    "                #print(self.shangGua)\n",
    "            elif(mode==\"shiaGua\"):\n",
    "                self.shiaGua[0,0] = Gua[2]\n",
    "                self.shiaGua[1,0] = Gua[1]\n",
    "                self.shiaGua[2,0] = Gua[0]\n",
    "                #print(self.shiaGua)\n",
    "            else:\n",
    "                print(\"mode error\")"
   ]
  },
  {
   "cell_type": "code",
   "execution_count": 148,
   "metadata": {},
   "outputs": [
    {
     "output_type": "execute_result",
     "data": {
      "text/plain": "<Figure size 407.975x264.88 with 1 Axes>",
      "image/svg+xml": "<?xml version=\"1.0\" encoding=\"utf-8\" standalone=\"no\"?>\r\n<!DOCTYPE svg PUBLIC \"-//W3C//DTD SVG 1.1//EN\"\r\n  \"http://www.w3.org/Graphics/SVG/1.1/DTD/svg11.dtd\">\r\n<!-- Created with matplotlib (https://matplotlib.org/) -->\r\n<svg height=\"214.3844pt\" version=\"1.1\" viewBox=\"0 0 322.420972 214.3844\" width=\"322.420972pt\" xmlns=\"http://www.w3.org/2000/svg\" xmlns:xlink=\"http://www.w3.org/1999/xlink\">\r\n <metadata>\r\n  <rdf:RDF xmlns:cc=\"http://creativecommons.org/ns#\" xmlns:dc=\"http://purl.org/dc/elements/1.1/\" xmlns:rdf=\"http://www.w3.org/1999/02/22-rdf-syntax-ns#\">\r\n   <cc:Work>\r\n    <dc:type rdf:resource=\"http://purl.org/dc/dcmitype/StillImage\"/>\r\n    <dc:date>2020-09-09T13:48:18.321327</dc:date>\r\n    <dc:format>image/svg+xml</dc:format>\r\n    <dc:creator>\r\n     <cc:Agent>\r\n      <dc:title>Matplotlib v3.3.1, https://matplotlib.org/</dc:title>\r\n     </cc:Agent>\r\n    </dc:creator>\r\n   </cc:Work>\r\n  </rdf:RDF>\r\n </metadata>\r\n <defs>\r\n  <style type=\"text/css\">*{stroke-linecap:butt;stroke-linejoin:round;}</style>\r\n </defs>\r\n <g id=\"figure_1\">\r\n  <g id=\"patch_1\">\r\n   <path d=\"M 0 214.3844 \r\nL 322.420972 214.3844 \r\nL 322.420972 0 \r\nL 0 0 \r\nz\r\n\" style=\"fill:#ffffff;\"/>\r\n  </g>\r\n  <g id=\"axes_1\">\r\n   <g id=\"patch_2\">\r\n    <path clip-path=\"url(#p7bf705ab7a)\" d=\"M 168.414242 169.573697 \r\nL 180.231502 169.573697 \r\nL 174.322872 179.9138 \r\nz\r\n\" style=\"fill:#778899;\"/>\r\n   </g>\r\n   <g id=\"patch_3\">\r\n    <path clip-path=\"url(#p7bf705ab7a)\" d=\"M 213.865242 169.573697 \r\nL 225.682502 169.573697 \r\nL 219.773872 179.9138 \r\nz\r\n\" style=\"fill:#778899;\"/>\r\n   </g>\r\n   <g id=\"patch_4\">\r\n    <path clip-path=\"url(#p7bf705ab7a)\" d=\"M 259.316242 169.573697 \r\nL 271.133502 169.573697 \r\nL 265.224872 179.9138 \r\nz\r\n\" style=\"fill:#778899;\"/>\r\n   </g>\r\n   <g id=\"line2d_1\">\r\n    <path clip-path=\"url(#p7bf705ab7a)\" d=\"M 92.511072 43.5608 \r\nL 310.675872 43.5608 \r\n\" style=\"fill:none;stroke:#000000;stroke-linecap:square;stroke-width:2;\"/>\r\n   </g>\r\n   <g id=\"line2d_2\">\r\n    <path clip-path=\"url(#p7bf705ab7a)\" d=\"M 92.511072 89.0118 \r\nL 310.675872 89.0118 \r\n\" style=\"fill:none;stroke:#000000;stroke-linecap:square;stroke-width:2;\"/>\r\n   </g>\r\n   <g id=\"line2d_3\">\r\n    <path clip-path=\"url(#p7bf705ab7a)\" d=\"M 92.511072 134.4628 \r\nL 310.675872 134.4628 \r\n\" style=\"fill:none;stroke:#000000;stroke-linecap:square;stroke-width:2;\"/>\r\n   </g>\r\n   <g id=\"line2d_4\">\r\n    <path clip-path=\"url(#p7bf705ab7a)\" d=\"M 92.511072 178.436643 \r\nL 310.675872 178.436643 \r\n\" style=\"fill:none;stroke:#778899;stroke-linecap:square;stroke-width:2;\"/>\r\n   </g>\r\n   <g id=\"line2d_5\">\r\n    <path clip-path=\"url(#p7bf705ab7a)\" d=\"M 92.511072 181.390958 \r\nL 310.675872 181.390958 \r\n\" style=\"fill:none;stroke:#778899;stroke-linecap:square;stroke-width:2;\"/>\r\n   </g>\r\n   <g id=\"line2d_6\">\r\n    <path clip-path=\"url(#p7bf705ab7a)\" d=\"M 175.80003 43.5608 \r\nL 175.80003 169.573697 \r\n\" style=\"fill:none;stroke:#778899;stroke-linecap:square;stroke-width:2;\"/>\r\n   </g>\r\n   <g id=\"line2d_7\">\r\n    <path clip-path=\"url(#p7bf705ab7a)\" d=\"M 172.845715 43.5608 \r\nL 172.845715 169.573697 \r\n\" style=\"fill:none;stroke:#778899;stroke-linecap:square;stroke-width:2;\"/>\r\n   </g>\r\n   <g id=\"line2d_8\">\r\n    <path clip-path=\"url(#p7bf705ab7a)\" d=\"M 221.25103 89.0118 \r\nL 221.25103 169.573697 \r\n\" style=\"fill:none;stroke:#778899;stroke-linecap:square;stroke-width:2;\"/>\r\n   </g>\r\n   <g id=\"line2d_9\">\r\n    <path clip-path=\"url(#p7bf705ab7a)\" d=\"M 218.296715 89.0118 \r\nL 218.296715 169.573697 \r\n\" style=\"fill:none;stroke:#778899;stroke-linecap:square;stroke-width:2;\"/>\r\n   </g>\r\n   <g id=\"line2d_10\">\r\n    <path clip-path=\"url(#p7bf705ab7a)\" d=\"M 266.70203 134.4628 \r\nL 266.70203 169.573697 \r\n\" style=\"fill:none;stroke:#778899;stroke-linecap:square;stroke-width:2;\"/>\r\n   </g>\r\n   <g id=\"line2d_11\">\r\n    <path clip-path=\"url(#p7bf705ab7a)\" d=\"M 263.747715 134.4628 \r\nL 263.747715 169.573697 \r\n\" style=\"fill:none;stroke:#778899;stroke-linecap:square;stroke-width:2;\"/>\r\n   </g>\r\n   <g id=\"line2d_12\">\r\n    <path clip-path=\"url(#p7bf705ab7a)\" d=\"M 112.509512 184.4589 \r\nL 117.054612 175.3687 \r\n\" style=\"fill:none;stroke:#778899;stroke-linecap:square;stroke-width:1.5;\"/>\r\n   </g>\r\n   <g id=\"patch_5\">\r\n    <path clip-path=\"url(#p7bf705ab7a)\" d=\"M 114.100297 58.332375 \r\nL 143.643447 58.332375 \r\nL 143.643447 28.789225 \r\nL 114.100297 28.789225 \r\nz\r\n\" style=\"fill:#6fa4ff;stroke:#6fa4ff;stroke-linejoin:miter;stroke-width:1.5;\"/>\r\n   </g>\r\n   <g id=\"patch_6\">\r\n    <path clip-path=\"url(#p7bf705ab7a)\" d=\"M 114.100297 103.783375 \r\nL 143.643447 103.783375 \r\nL 143.643447 74.240225 \r\nL 114.100297 74.240225 \r\nz\r\n\" style=\"fill:#6fa4ff;stroke:#6fa4ff;stroke-linejoin:miter;stroke-width:1.5;\"/>\r\n   </g>\r\n   <g id=\"patch_7\">\r\n    <path clip-path=\"url(#p7bf705ab7a)\" d=\"M 114.100297 149.234375 \r\nL 143.643447 149.234375 \r\nL 143.643447 119.691225 \r\nL 114.100297 119.691225 \r\nz\r\n\" style=\"fill:#6fa4ff;stroke:#6fa4ff;stroke-linejoin:miter;stroke-width:1.5;\"/>\r\n   </g>\r\n   <g id=\"patch_8\">\r\n    <path clip-path=\"url(#p7bf705ab7a)\" d=\"M 159.551297 58.332375 \r\nL 189.094447 58.332375 \r\nL 189.094447 28.789225 \r\nL 159.551297 28.789225 \r\nz\r\n\" style=\"stroke:#000000;stroke-linejoin:miter;stroke-width:1.5;\"/>\r\n   </g>\r\n   <g id=\"patch_9\">\r\n    <path clip-path=\"url(#p7bf705ab7a)\" d=\"M 184.662975 47.992273 \r\nC 184.662975 45.250959 183.572831 42.619118 181.634429 40.680716 \r\nC 179.696027 38.742314 177.064186 37.65217 174.322872 37.65217 \r\nC 171.581559 37.65217 168.949718 38.742314 167.011316 40.680716 \r\nC 165.072914 42.619118 163.98277 45.250959 163.98277 47.992273 \r\n\" style=\"fill:none;stroke:#ffffff;stroke-linejoin:miter;stroke-width:2;\"/>\r\n   </g>\r\n   <g id=\"patch_10\">\r\n    <path clip-path=\"url(#p7bf705ab7a)\" d=\"M 205.002297 103.783375 \r\nL 234.545447 103.783375 \r\nL 234.545447 74.240225 \r\nL 205.002297 74.240225 \r\nz\r\n\" style=\"stroke:#000000;stroke-linejoin:miter;stroke-width:1.5;\"/>\r\n   </g>\r\n   <g id=\"patch_11\">\r\n    <path clip-path=\"url(#p7bf705ab7a)\" d=\"M 230.113975 93.443273 \r\nC 230.113975 90.701959 229.023831 88.070118 227.085429 86.131716 \r\nC 225.147027 84.193314 222.515186 83.10317 219.773872 83.10317 \r\nC 217.032559 83.10317 214.400718 84.193314 212.462316 86.131716 \r\nC 210.523914 88.070118 209.43377 90.701959 209.43377 93.443273 \r\n\" style=\"fill:none;stroke:#ffffff;stroke-linejoin:miter;stroke-width:2;\"/>\r\n   </g>\r\n   <g id=\"patch_12\">\r\n    <path clip-path=\"url(#p7bf705ab7a)\" d=\"M 250.453297 149.234375 \r\nL 279.996447 149.234375 \r\nL 279.996447 119.691225 \r\nL 250.453297 119.691225 \r\nz\r\n\" style=\"stroke:#000000;stroke-linejoin:miter;stroke-width:1.5;\"/>\r\n   </g>\r\n   <g id=\"patch_13\">\r\n    <path clip-path=\"url(#p7bf705ab7a)\" d=\"M 275.564975 138.894272 \r\nC 275.564975 136.152959 274.474831 133.521118 272.536429 131.582716 \r\nC 270.598027 129.644314 267.966186 128.55417 265.224872 128.55417 \r\nC 262.483559 128.55417 259.851718 129.644314 257.913316 131.582716 \r\nC 255.974914 133.521118 254.88477 136.152959 254.88477 138.894272 \r\n\" style=\"fill:none;stroke:#ffffff;stroke-linejoin:miter;stroke-width:2;\"/>\r\n   </g>\r\n   <g id=\"line2d_13\">\r\n    <path clip-path=\"url(#p7bf705ab7a)\" d=\"M 174.322872 47.992272 \r\nL 184.662975 37.65217 \r\n\" style=\"fill:none;stroke:#ffffff;stroke-linecap:square;stroke-width:2;\"/>\r\n   </g>\r\n   <g id=\"line2d_14\">\r\n    <path clip-path=\"url(#p7bf705ab7a)\" d=\"M 219.773872 93.443273 \r\nL 230.113975 83.10317 \r\n\" style=\"fill:none;stroke:#ffffff;stroke-linecap:square;stroke-width:2;\"/>\r\n   </g>\r\n   <g id=\"line2d_15\">\r\n    <path clip-path=\"url(#p7bf705ab7a)\" d=\"M 265.224872 138.894272 \r\nL 275.564975 128.55417 \r\n\" style=\"fill:none;stroke:#ffffff;stroke-linecap:square;stroke-width:2;\"/>\r\n   </g>\r\n   <g id=\"text_1\">\r\n    <g clip-path=\"url(#p7bf705ab7a)\">\r\n     <!-- H -->\r\n     <g transform=\"translate(123.983669 47.147987)scale(0.13 -0.13)\">\r\n      <defs>\r\n       <path d=\"M 9.8125 72.90625 \r\nL 19.671875 72.90625 \r\nL 19.671875 43.015625 \r\nL 55.515625 43.015625 \r\nL 55.515625 72.90625 \r\nL 65.375 72.90625 \r\nL 65.375 0 \r\nL 55.515625 0 \r\nL 55.515625 34.71875 \r\nL 19.671875 34.71875 \r\nL 19.671875 0 \r\nL 9.8125 0 \r\nz\r\n\" id=\"DejaVuSans-72\"/>\r\n      </defs>\r\n      <use xlink:href=\"#DejaVuSans-72\"/>\r\n     </g>\r\n    </g>\r\n   </g>\r\n   <g id=\"text_2\">\r\n    <g clip-path=\"url(#p7bf705ab7a)\">\r\n     <!-- H -->\r\n     <g transform=\"translate(123.983669 92.598987)scale(0.13 -0.13)\">\r\n      <use xlink:href=\"#DejaVuSans-72\"/>\r\n     </g>\r\n    </g>\r\n   </g>\r\n   <g id=\"text_3\">\r\n    <g clip-path=\"url(#p7bf705ab7a)\">\r\n     <!-- H -->\r\n     <g transform=\"translate(123.983669 138.049987)scale(0.13 -0.13)\">\r\n      <use xlink:href=\"#DejaVuSans-72\"/>\r\n     </g>\r\n    </g>\r\n   </g>\r\n   <g id=\"text_4\">\r\n    <g clip-path=\"url(#p7bf705ab7a)\">\r\n     <!-- 0 -->\r\n     <g transform=\"translate(185.685622 173.205825)scale(0.104 -0.104)\">\r\n      <defs>\r\n       <path d=\"M 31.78125 66.40625 \r\nQ 24.171875 66.40625 20.328125 58.90625 \r\nQ 16.5 51.421875 16.5 36.375 \r\nQ 16.5 21.390625 20.328125 13.890625 \r\nQ 24.171875 6.390625 31.78125 6.390625 \r\nQ 39.453125 6.390625 43.28125 13.890625 \r\nQ 47.125 21.390625 47.125 36.375 \r\nQ 47.125 51.421875 43.28125 58.90625 \r\nQ 39.453125 66.40625 31.78125 66.40625 \r\nz\r\nM 31.78125 74.21875 \r\nQ 44.046875 74.21875 50.515625 64.515625 \r\nQ 56.984375 54.828125 56.984375 36.375 \r\nQ 56.984375 17.96875 50.515625 8.265625 \r\nQ 44.046875 -1.421875 31.78125 -1.421875 \r\nQ 19.53125 -1.421875 13.0625 8.265625 \r\nQ 6.59375 17.96875 6.59375 36.375 \r\nQ 6.59375 54.828125 13.0625 64.515625 \r\nQ 19.53125 74.21875 31.78125 74.21875 \r\nz\r\n\" id=\"DejaVuSans-48\"/>\r\n      </defs>\r\n      <use xlink:href=\"#DejaVuSans-48\"/>\r\n     </g>\r\n    </g>\r\n   </g>\r\n   <g id=\"text_5\">\r\n    <g clip-path=\"url(#p7bf705ab7a)\">\r\n     <!-- 1 -->\r\n     <g transform=\"translate(231.136622 173.205825)scale(0.104 -0.104)\">\r\n      <defs>\r\n       <path d=\"M 12.40625 8.296875 \r\nL 28.515625 8.296875 \r\nL 28.515625 63.921875 \r\nL 10.984375 60.40625 \r\nL 10.984375 69.390625 \r\nL 28.421875 72.90625 \r\nL 38.28125 72.90625 \r\nL 38.28125 8.296875 \r\nL 54.390625 8.296875 \r\nL 54.390625 0 \r\nL 12.40625 0 \r\nz\r\n\" id=\"DejaVuSans-49\"/>\r\n      </defs>\r\n      <use xlink:href=\"#DejaVuSans-49\"/>\r\n     </g>\r\n    </g>\r\n   </g>\r\n   <g id=\"text_6\">\r\n    <g clip-path=\"url(#p7bf705ab7a)\">\r\n     <!-- 2 -->\r\n     <g transform=\"translate(276.587622 173.205825)scale(0.104 -0.104)\">\r\n      <defs>\r\n       <path d=\"M 19.1875 8.296875 \r\nL 53.609375 8.296875 \r\nL 53.609375 0 \r\nL 7.328125 0 \r\nL 7.328125 8.296875 \r\nQ 12.9375 14.109375 22.625 23.890625 \r\nQ 32.328125 33.6875 34.8125 36.53125 \r\nQ 39.546875 41.84375 41.421875 45.53125 \r\nQ 43.3125 49.21875 43.3125 52.78125 \r\nQ 43.3125 58.59375 39.234375 62.25 \r\nQ 35.15625 65.921875 28.609375 65.921875 \r\nQ 23.96875 65.921875 18.8125 64.3125 \r\nQ 13.671875 62.703125 7.8125 59.421875 \r\nL 7.8125 69.390625 \r\nQ 13.765625 71.78125 18.9375 73 \r\nQ 24.125 74.21875 28.421875 74.21875 \r\nQ 39.75 74.21875 46.484375 68.546875 \r\nQ 53.21875 62.890625 53.21875 53.421875 \r\nQ 53.21875 48.921875 51.53125 44.890625 \r\nQ 49.859375 40.875 45.40625 35.40625 \r\nQ 44.1875 33.984375 37.640625 27.21875 \r\nQ 31.109375 20.453125 19.1875 8.296875 \r\nz\r\n\" id=\"DejaVuSans-50\"/>\r\n      </defs>\r\n      <use xlink:href=\"#DejaVuSans-50\"/>\r\n     </g>\r\n    </g>\r\n   </g>\r\n   <g id=\"text_7\">\r\n    <g clip-path=\"url(#p7bf705ab7a)\">\r\n     <!-- ${q19}_{0}$ -->\r\n     <g transform=\"translate(35.493172 48.011777)scale(0.1625 -0.1625)\">\r\n      <defs>\r\n       <path d=\"M 41.703125 8.203125 \r\nQ 38.09375 3.46875 33.171875 1.015625 \r\nQ 28.265625 -1.421875 22.3125 -1.421875 \r\nQ 14.015625 -1.421875 9.296875 4.171875 \r\nQ 4.59375 9.765625 4.59375 19.578125 \r\nQ 4.59375 27.484375 7.5 34.859375 \r\nQ 10.40625 42.234375 15.828125 48.09375 \r\nQ 19.34375 51.90625 23.90625 53.953125 \r\nQ 28.46875 56 33.5 56 \r\nQ 39.546875 56 43.453125 53.609375 \r\nQ 47.359375 51.21875 49.125 46.390625 \r\nL 50.6875 54.59375 \r\nL 59.71875 54.59375 \r\nL 45.125 -20.609375 \r\nL 36.078125 -20.609375 \r\nz\r\nM 13.921875 20.90625 \r\nQ 13.921875 13.671875 16.9375 9.890625 \r\nQ 19.96875 6.109375 25.6875 6.109375 \r\nQ 34.1875 6.109375 40.1875 14.234375 \r\nQ 46.1875 22.359375 46.1875 33.984375 \r\nQ 46.1875 41.015625 43.078125 44.75 \r\nQ 39.984375 48.484375 34.1875 48.484375 \r\nQ 29.9375 48.484375 26.3125 46.5 \r\nQ 22.703125 44.53125 20.015625 40.71875 \r\nQ 17.1875 36.71875 15.546875 31.34375 \r\nQ 13.921875 25.984375 13.921875 20.90625 \r\nz\r\n\" id=\"DejaVuSans-Oblique-113\"/>\r\n       <path d=\"M 10.984375 1.515625 \r\nL 10.984375 10.5 \r\nQ 14.703125 8.734375 18.5 7.8125 \r\nQ 22.3125 6.890625 25.984375 6.890625 \r\nQ 35.75 6.890625 40.890625 13.453125 \r\nQ 46.046875 20.015625 46.78125 33.40625 \r\nQ 43.953125 29.203125 39.59375 26.953125 \r\nQ 35.25 24.703125 29.984375 24.703125 \r\nQ 19.046875 24.703125 12.671875 31.3125 \r\nQ 6.296875 37.9375 6.296875 49.421875 \r\nQ 6.296875 60.640625 12.9375 67.421875 \r\nQ 19.578125 74.21875 30.609375 74.21875 \r\nQ 43.265625 74.21875 49.921875 64.515625 \r\nQ 56.59375 54.828125 56.59375 36.375 \r\nQ 56.59375 19.140625 48.40625 8.859375 \r\nQ 40.234375 -1.421875 26.421875 -1.421875 \r\nQ 22.703125 -1.421875 18.890625 -0.6875 \r\nQ 15.09375 0.046875 10.984375 1.515625 \r\nz\r\nM 30.609375 32.421875 \r\nQ 37.25 32.421875 41.125 36.953125 \r\nQ 45.015625 41.5 45.015625 49.421875 \r\nQ 45.015625 57.28125 41.125 61.84375 \r\nQ 37.25 66.40625 30.609375 66.40625 \r\nQ 23.96875 66.40625 20.09375 61.84375 \r\nQ 16.21875 57.28125 16.21875 49.421875 \r\nQ 16.21875 41.5 20.09375 36.953125 \r\nQ 23.96875 32.421875 30.609375 32.421875 \r\nz\r\n\" id=\"DejaVuSans-57\"/>\r\n      </defs>\r\n      <use transform=\"translate(0 0.78125)\" xlink:href=\"#DejaVuSans-Oblique-113\"/>\r\n      <use transform=\"translate(63.476562 0.78125)\" xlink:href=\"#DejaVuSans-49\"/>\r\n      <use transform=\"translate(127.099609 0.78125)\" xlink:href=\"#DejaVuSans-57\"/>\r\n      <use transform=\"translate(191.679688 -15.625)scale(0.7)\" xlink:href=\"#DejaVuSans-48\"/>\r\n     </g>\r\n    </g>\r\n   </g>\r\n   <g id=\"text_8\">\r\n    <g clip-path=\"url(#p7bf705ab7a)\">\r\n     <!-- ${q19}_{1}$ -->\r\n     <g transform=\"translate(35.493172 93.462777)scale(0.1625 -0.1625)\">\r\n      <use transform=\"translate(0 0.78125)\" xlink:href=\"#DejaVuSans-Oblique-113\"/>\r\n      <use transform=\"translate(63.476562 0.78125)\" xlink:href=\"#DejaVuSans-49\"/>\r\n      <use transform=\"translate(127.099609 0.78125)\" xlink:href=\"#DejaVuSans-57\"/>\r\n      <use transform=\"translate(191.679688 -15.625)scale(0.7)\" xlink:href=\"#DejaVuSans-49\"/>\r\n     </g>\r\n    </g>\r\n   </g>\r\n   <g id=\"text_9\">\r\n    <g clip-path=\"url(#p7bf705ab7a)\">\r\n     <!-- ${q19}_{2}$ -->\r\n     <g transform=\"translate(35.493172 138.913777)scale(0.1625 -0.1625)\">\r\n      <use transform=\"translate(0 0.78125)\" xlink:href=\"#DejaVuSans-Oblique-113\"/>\r\n      <use transform=\"translate(63.476562 0.78125)\" xlink:href=\"#DejaVuSans-49\"/>\r\n      <use transform=\"translate(127.099609 0.78125)\" xlink:href=\"#DejaVuSans-57\"/>\r\n      <use transform=\"translate(191.679688 -15.625)scale(0.7)\" xlink:href=\"#DejaVuSans-50\"/>\r\n     </g>\r\n    </g>\r\n   </g>\r\n   <g id=\"text_10\">\r\n    <g clip-path=\"url(#p7bf705ab7a)\">\r\n     <!-- 3 -->\r\n     <g transform=\"translate(107.964412 173.205825)scale(0.104 -0.104)\">\r\n      <defs>\r\n       <path d=\"M 40.578125 39.3125 \r\nQ 47.65625 37.796875 51.625 33 \r\nQ 55.609375 28.21875 55.609375 21.1875 \r\nQ 55.609375 10.40625 48.1875 4.484375 \r\nQ 40.765625 -1.421875 27.09375 -1.421875 \r\nQ 22.515625 -1.421875 17.65625 -0.515625 \r\nQ 12.796875 0.390625 7.625 2.203125 \r\nL 7.625 11.71875 \r\nQ 11.71875 9.328125 16.59375 8.109375 \r\nQ 21.484375 6.890625 26.8125 6.890625 \r\nQ 36.078125 6.890625 40.9375 10.546875 \r\nQ 45.796875 14.203125 45.796875 21.1875 \r\nQ 45.796875 27.640625 41.28125 31.265625 \r\nQ 36.765625 34.90625 28.71875 34.90625 \r\nL 20.21875 34.90625 \r\nL 20.21875 43.015625 \r\nL 29.109375 43.015625 \r\nQ 36.375 43.015625 40.234375 45.921875 \r\nQ 44.09375 48.828125 44.09375 54.296875 \r\nQ 44.09375 59.90625 40.109375 62.90625 \r\nQ 36.140625 65.921875 28.71875 65.921875 \r\nQ 24.65625 65.921875 20.015625 65.03125 \r\nQ 15.375 64.15625 9.8125 62.3125 \r\nL 9.8125 71.09375 \r\nQ 15.4375 72.65625 20.34375 73.4375 \r\nQ 25.25 74.21875 29.59375 74.21875 \r\nQ 40.828125 74.21875 47.359375 69.109375 \r\nQ 53.90625 64.015625 53.90625 55.328125 \r\nQ 53.90625 49.265625 50.4375 45.09375 \r\nQ 46.96875 40.921875 40.578125 39.3125 \r\nz\r\n\" id=\"DejaVuSans-51\"/>\r\n      </defs>\r\n      <use xlink:href=\"#DejaVuSans-51\"/>\r\n     </g>\r\n    </g>\r\n   </g>\r\n   <g id=\"text_11\">\r\n    <g clip-path=\"url(#p7bf705ab7a)\">\r\n     <!-- c9 -->\r\n     <g transform=\"translate(55.056649 184.397784)scale(0.1625 -0.1625)\">\r\n      <defs>\r\n       <path d=\"M 48.78125 52.59375 \r\nL 48.78125 44.1875 \r\nQ 44.96875 46.296875 41.140625 47.34375 \r\nQ 37.3125 48.390625 33.40625 48.390625 \r\nQ 24.65625 48.390625 19.8125 42.84375 \r\nQ 14.984375 37.3125 14.984375 27.296875 \r\nQ 14.984375 17.28125 19.8125 11.734375 \r\nQ 24.65625 6.203125 33.40625 6.203125 \r\nQ 37.3125 6.203125 41.140625 7.25 \r\nQ 44.96875 8.296875 48.78125 10.40625 \r\nL 48.78125 2.09375 \r\nQ 45.015625 0.34375 40.984375 -0.53125 \r\nQ 36.96875 -1.421875 32.421875 -1.421875 \r\nQ 20.0625 -1.421875 12.78125 6.34375 \r\nQ 5.515625 14.109375 5.515625 27.296875 \r\nQ 5.515625 40.671875 12.859375 48.328125 \r\nQ 20.21875 56 33.015625 56 \r\nQ 37.15625 56 41.109375 55.140625 \r\nQ 45.0625 54.296875 48.78125 52.59375 \r\nz\r\n\" id=\"DejaVuSans-99\"/>\r\n      </defs>\r\n      <use xlink:href=\"#DejaVuSans-99\"/>\r\n      <use x=\"54.980469\" xlink:href=\"#DejaVuSans-57\"/>\r\n     </g>\r\n    </g>\r\n   </g>\r\n  </g>\r\n </g>\r\n <defs>\r\n  <clipPath id=\"p7bf705ab7a\">\r\n   <rect height=\"199.9844\" width=\"308.020972\" x=\"7.2\" y=\"7.2\"/>\r\n  </clipPath>\r\n </defs>\r\n</svg>\r\n",
      "image/png": "[encoded data removed]"
     },
     "metadata": {},
     "execution_count": 148
    }
   ],
   "source": [
    "qr = QuantumRegister(3)\n",
    "cr = ClassicalRegister(3)\n",
    "circuit = QuantumCircuit(qr, cr)\n",
    "circuit.h(qr)\n",
    "circuit.measure(qr, cr)\n",
    "%matplotlib inline \n",
    "circuit.draw(output='mpl')\n"
   ]
  },
  {
   "cell_type": "code",
   "execution_count": 158,
   "metadata": {
    "tags": []
   },
   "outputs": [
    {
     "output_type": "stream",
     "name": "stdout",
     "text": "001\n"
    }
   ],
   "source": [
    "backend = Aer.get_backend('qasm_simulator')\n",
    "job = execute(circuit, backend, shots=1)\n",
    "result = job.result().get_counts(circuit)\n",
    "for x,y in result.items():\n",
    "    print(x)"
   ]
  },
  {
   "cell_type": "code",
   "execution_count": null,
   "metadata": {},
   "outputs": [],
   "source": []
  },
  {
   "cell_type": "code",
   "execution_count": null,
   "metadata": {},
   "outputs": [],
   "source": []
  }
 ]
}